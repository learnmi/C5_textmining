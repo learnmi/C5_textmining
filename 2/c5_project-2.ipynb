{
 "cells": [
  {
   "cell_type": "code",
   "execution_count": 13,
   "metadata": {},
   "outputs": [
    {
     "name": "stdout",
     "output_type": "stream",
     "text": [
      "   userId  movieId  rating  timestamp\n",
      "0       1        1     4.0  964982703\n",
      "1       1        3     4.0  964981247\n",
      "2       1        6     4.0  964982224\n",
      "3       1       47     5.0  964983815\n",
      "4       1       50     5.0  964982931\n"
     ]
    }
   ],
   "source": [
    "import pandas as pd\n",
    "import numpy as np\n",
    "\n",
    "\n",
    "# Read data\n",
    "df = pd.read_csv(\"/Users/sonu/Documents/aiml/assignments/c5/C5-mini-project2/movie_ratings.csv\")\n",
    "print(df.head())\n",
    "\n",
    "# Read movie metadata\n",
    "df_movie = pd.read_csv(\"/Users/sonu/Documents/aiml/assignments/c5/C5-mini-project2/movie_titles.csv\")"
   ]
  },
  {
   "cell_type": "code",
   "execution_count": 14,
   "metadata": {},
   "outputs": [],
   "source": [
    "import surprise\n",
    "\n",
    "# Extending\n",
    "class SGD(surprise.AlgoBase):\n",
    "    def __init__(self,learning_rate,num_epochs,num_factors):\n",
    "        self.alpha = learning_rate\n",
    "        self.num_epochs = num_epochs\n",
    "        self.num_factors = num_factors\n",
    "\n",
    "    def fit(self,train):\n",
    "        P = np.random.normal(0,.1,(train.n_users,self.num_factors))\n",
    "        Q = np.random.normal(0,.1,(train.n_items,self.num_factors))\n",
    "\n",
    "        for epoch in range(self.num_epochs):\n",
    "            for u,i,r_ui in train.all_ratings():\n",
    "                residual = r_ui - np.dot(P[u],Q[i])\n",
    "                temp = P[u,:]\n",
    "                P[u,:] +=  self.alpha * residual * Q[i]\n",
    "                Q[i,:] +=  self.alpha * residual * temp \n",
    "\n",
    "        # Save model parameter\n",
    "        self.P = P\n",
    "        self.Q = Q\n",
    "\n",
    "        self.trainset = train\n",
    "    \n",
    "    \n",
    "    def estimate(self,u,i):\n",
    "        if self.trainset.knows_user(u) and self.trainset.knows_item(i):\n",
    "            nanCheck = np.dot(self.P[u],self.Q[i])            \n",
    "            if np.isnan(nanCheck):\n",
    "                return self.trainset.global_mean\n",
    "            else:\n",
    "                return np.dot(self.P[u,:],self.Q[i,:])\n",
    "        else:\n",
    "            return self.trainset.global_mean"
   ]
  },
  {
   "cell_type": "code",
   "execution_count": 19,
   "metadata": {},
   "outputs": [
    {
     "name": "stdout",
     "output_type": "stream",
     "text": [
      "rsme:  1.1944957516067378 mae:  0.9141405274226972\n",
      "rsme:  {'learning_rate': 0.01, 'num_epochs': 5, 'num_factors': 10} mae:  {'learning_rate': 0.01, 'num_epochs': 5, 'num_factors': 10}\n"
     ]
    }
   ],
   "source": [
    "from surprise import Dataset\n",
    "from surprise import Reader\n",
    "\n",
    "reader = Reader(rating_scale=(1, 5))\n",
    "# Loads Pandas dataframe\n",
    "data = Dataset.load_from_df(df[[\"userId\", \"movieId\", \"rating\"]], reader)\n",
    "data1 = data.build_full_trainset()\n",
    "\n",
    "mymodel = surprise.model_selection.GridSearchCV(SGD,\n",
    "                                          param_grid={'learning_rate':[0.01],\n",
    "                                                      'num_epochs':[5],\n",
    "                                                      'num_factors':[10]},\n",
    "                                          measures=['rmse', 'mae'],\n",
    "                                          cv=2)\n",
    "mymodel.fit(data)\n",
    "print('rsme: ',mymodel.best_score['rmse'],'mae: ',mymodel.best_score['mae'])\n",
    "\n",
    "best_params = mymodel.best_params['rmse']\n",
    "print('rsme: ',mymodel.best_params['rmse'],'mae: ',mymodel.best_params['mae'])"
   ]
  },
  {
   "cell_type": "code",
   "execution_count": null,
   "metadata": {},
   "outputs": [],
   "source": []
  },
  {
   "cell_type": "code",
   "execution_count": 20,
   "metadata": {},
   "outputs": [
    {
     "name": "stdout",
     "output_type": "stream",
     "text": [
      "rsme:  1.1942029895109094 mae:  0.9146001280572134\n",
      "rsme:  {'learning_rate': 0.01, 'num_epochs': 5, 'num_factors': 7} mae:  {'learning_rate': 0.01, 'num_epochs': 5, 'num_factors': 7}\n"
     ]
    }
   ],
   "source": [
    "mymodel = surprise.model_selection.GridSearchCV(SGD,\n",
    "                                          param_grid={'learning_rate':[0.01],\n",
    "                                                      'num_epochs':[5],\n",
    "                                                      'num_factors':[7]},\n",
    "                                          measures=['rmse', 'mae'],\n",
    "                                          cv=2)\n",
    "mymodel.fit(data)\n",
    "print('rsme: ',mymodel.best_score['rmse'],'mae: ',mymodel.best_score['mae'])\n",
    "\n",
    "best_params = mymodel.best_params['rmse']\n",
    "print('rsme: ',mymodel.best_params['rmse'],'mae: ',mymodel.best_params['mae'])"
   ]
  },
  {
   "cell_type": "code",
   "execution_count": 21,
   "metadata": {},
   "outputs": [
    {
     "name": "stdout",
     "output_type": "stream",
     "text": [
      "rsme:  1.2169800223595706 mae:  0.9325579867346411\n",
      "rsme:  {'learning_rate': 0.01, 'num_epochs': 5, 'num_factors': 5} mae:  {'learning_rate': 0.01, 'num_epochs': 5, 'num_factors': 5}\n"
     ]
    }
   ],
   "source": [
    "mymodel = surprise.model_selection.GridSearchCV(SGD,\n",
    "                                          param_grid={'learning_rate':[0.01],\n",
    "                                                      'num_epochs':[5],\n",
    "                                                      'num_factors':[5]},\n",
    "                                          measures=['rmse', 'mae'],\n",
    "                                          cv=2)\n",
    "mymodel.fit(data)\n",
    "print('rsme: ',mymodel.best_score['rmse'],'mae: ',mymodel.best_score['mae'])\n",
    "\n",
    "best_params = mymodel.best_params['rmse']\n",
    "print('rsme: ',mymodel.best_params['rmse'],'mae: ',mymodel.best_params['mae'])"
   ]
  },
  {
   "cell_type": "code",
   "execution_count": null,
   "metadata": {},
   "outputs": [],
   "source": []
  }
 ],
 "metadata": {
  "kernelspec": {
   "display_name": "Python 3",
   "language": "python",
   "name": "python3"
  },
  "language_info": {
   "codemirror_mode": {
    "name": "ipython",
    "version": 3
   },
   "file_extension": ".py",
   "mimetype": "text/x-python",
   "name": "python",
   "nbconvert_exporter": "python",
   "pygments_lexer": "ipython3",
   "version": "3.7.3"
  }
 },
 "nbformat": 4,
 "nbformat_minor": 2
}
