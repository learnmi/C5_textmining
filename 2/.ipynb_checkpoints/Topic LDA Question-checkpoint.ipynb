{
 "cells": [
  {
   "cell_type": "markdown",
   "metadata": {},
   "source": [
    "<h2><center><font color='blue'>Topic Modelling using LDA</font></center></h2>"
   ]
  },
  {
   "cell_type": "markdown",
   "metadata": {},
   "source": [
    "#### In this assignment, we learn topic modelling using LDA by create a LDA model. We use PorterStemmer while building the model.\n",
    "##### Please refer the API Documentation Here : https://radimrehurek.com/gensim/models/ldamodel.html"
   ]
  },
  {
   "cell_type": "code",
   "execution_count": 7,
   "metadata": {},
   "outputs": [],
   "source": [
    "from nltk.tokenize import RegexpTokenizer\n",
    "from stop_words import get_stop_words\n",
    "from nltk.stem.porter import PorterStemmer\n",
    "from gensim import corpora, models\n",
    "import gensim"
   ]
  },
  {
   "cell_type": "markdown",
   "metadata": {},
   "source": [
    "#### Creating English stop words list and PorterStemmer Class --> 1M"
   ]
  },
  {
   "cell_type": "code",
   "execution_count": 9,
   "metadata": {},
   "outputs": [],
   "source": [
    "# create English stop words list\n",
    "en_stop = # Code Here ...\n",
    "\n",
    "# Create p_stemmer of class PorterStemmer\n",
    "p_stemmer = # Code Here ... \n",
    "    \n",
    "# create sample documents\n",
    "doc_a = \"Brocolli is good to eat. My brother likes to eat good brocolli, but not my mother.\"\n",
    "doc_b = \"My mother spends a lot of time driving my brother around to baseball practice.\"\n",
    "doc_c = \"Some health experts suggest that driving may cause increased tension and blood pressure.\"\n",
    "doc_d = \"I often feel pressure to perform well at school, but my mother never seems to drive my brother to do better.\"\n",
    "doc_e = \"Health professionals say that brocolli is good for your health.\" "
   ]
  },
  {
   "cell_type": "markdown",
   "metadata": {},
   "source": [
    "#### Generating the LDA Model --> 2.5 M "
   ]
  },
  {
   "cell_type": "raw",
   "metadata": {},
   "source": [
    "************* Tasks TODO ******************************************\n",
    "(1) Remove stop words from tokens\n",
    "(2) Stem tokens using p_stemmer\n",
    "(3) Create dictionary - Hint : Use corpora.Dictionary()\n",
    "(4) Convert Tokenized document into Document - term Matrix!\n",
    "(5) Generate LDAmodel - Hint : Explore about gensim.models.ldamodel"
   ]
  },
  {
   "cell_type": "code",
   "execution_count": 16,
   "metadata": {},
   "outputs": [],
   "source": [
    "tokenizer = RegexpTokenizer(r'\\w+')\n",
    "\n",
    "# Compile sample documents into a list\n",
    "doc_set = [doc_a, doc_b, doc_c, doc_d, doc_e]\n",
    "\n",
    "# list for tokenized documents in loop\n",
    "texts = []\n",
    "\n",
    "# loop through document list\n",
    "for i in doc_set:\n",
    "    \n",
    "    # clean and tokenize document string\n",
    "    raw = i.lower()\n",
    "    tokens = tokenizer.tokenize(raw)\n",
    "\n",
    "    # remove stop words from tokens -------- (1) \n",
    "    stopped_tokens = # Code here ... \n",
    "    \n",
    "    # stem tokens ------ (2)\n",
    "    stemmed_tokens = # Code here ... \n",
    "    \n",
    "    # add stemmed_tokens to list\n",
    "    texts.append(stemmed_tokens)\n",
    "\n",
    "# turn our tokenized documents into a id <-> term dictionary ------ (3)\n",
    "dictionary = # Code here ... \n",
    "    \n",
    "# convert tokenized documents into a document-term matrix ----- (4)\n",
    "corpus = # Code here ...\n",
    "\n",
    "# generate LDA model -------- (5)\n",
    "ldamodel = # Code here ..."
   ]
  },
  {
   "cell_type": "markdown",
   "metadata": {},
   "source": [
    "#### Print the ldamodel with print_topics by using different input values -- 0.5M"
   ]
  },
  {
   "cell_type": "code",
   "execution_count": 17,
   "metadata": {},
   "outputs": [
    {
     "name": "stdout",
     "output_type": "stream",
     "text": [
      "[(0, '0.086*\"health\" + 0.086*\"good\" + 0.086*\"brocolli\" + 0.061*\"eat\"'), (1, '0.068*\"mother\" + 0.068*\"brother\" + 0.068*\"drive\" + 0.041*\"pressur\"')]\n"
     ]
    }
   ],
   "source": [
    "print( # Code here ... )"
   ]
  },
  {
   "cell_type": "code",
   "execution_count": 18,
   "metadata": {},
   "outputs": [
    {
     "name": "stdout",
     "output_type": "stream",
     "text": [
      "[(0, '0.086*\"health\" + 0.086*\"good\" + 0.086*\"brocolli\"'), (1, '0.068*\"mother\" + 0.068*\"brother\" + 0.068*\"drive\"')]\n"
     ]
    }
   ],
   "source": [
    "print( # Code here ... )\n"
   ]
  }
 ],
 "metadata": {
  "kernelspec": {
   "display_name": "Python 3",
   "language": "python",
   "name": "python3"
  },
  "language_info": {
   "codemirror_mode": {
    "name": "ipython",
    "version": 3
   },
   "file_extension": ".py",
   "mimetype": "text/x-python",
   "name": "python",
   "nbconvert_exporter": "python",
   "pygments_lexer": "ipython3",
   "version": "3.7.3"
  }
 },
 "nbformat": 4,
 "nbformat_minor": 2
}
