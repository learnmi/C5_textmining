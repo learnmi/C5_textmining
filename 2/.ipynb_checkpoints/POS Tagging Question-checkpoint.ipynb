{
 "cells": [
  {
   "cell_type": "markdown",
   "metadata": {},
   "source": [
    "<h2><center><font color='blue'>Word Tokenization & POS Tagging</font></center></h2>"
   ]
  },
  {
   "cell_type": "markdown",
   "metadata": {},
   "source": [
    "In this exercise, we learn word tokenization and POS tagging.\n",
    "You may refer the API documentation at : https://www.nltk.org/ & https://www.nltk.org/data.html"
   ]
  },
  {
   "cell_type": "markdown",
   "metadata": {},
   "source": [
    "#### Import the nexessary libraries ------> 0.5 M\n",
    "Hint : You will need word_tokenize, pos_tag and ne_chunk "
   ]
  },
  {
   "cell_type": "code",
   "execution_count": 11,
   "metadata": {},
   "outputs": [
    {
     "name": "stderr",
     "output_type": "stream",
     "text": [
      "[nltk_data] Downloading package punkt to /Users/sonu/nltk_data...\n",
      "[nltk_data]   Package punkt is already up-to-date!\n",
      "[nltk_data] Downloading package averaged_perceptron_tagger to\n",
      "[nltk_data]     /Users/sonu/nltk_data...\n",
      "[nltk_data]   Unzipping taggers/averaged_perceptron_tagger.zip.\n"
     ]
    },
    {
     "data": {
      "text/plain": [
       "True"
      ]
     },
     "execution_count": 11,
     "metadata": {},
     "output_type": "execute_result"
    }
   ],
   "source": [
    "from nltk.tokenize import word_tokenize\n",
    "import nltk\n",
    "\n",
    "nltk.download('punkt')\n",
    "nltk.download('averaged_perceptron_tagger')\n",
    "\n",
    "\n",
    "\n"
   ]
  },
  {
   "cell_type": "markdown",
   "metadata": {},
   "source": [
    "#### A sentence under consideration for Information Extraction(NER)\n"
   ]
  },
  {
   "cell_type": "code",
   "execution_count": 16,
   "metadata": {},
   "outputs": [],
   "source": [
    "sentence = 'Virat Kohli is an Indian cricketer who currently captains the India national team. A right-handed top-order batsman, Kohli is regarded as one of the best batsmen in the world'"
   ]
  },
  {
   "cell_type": "markdown",
   "metadata": {},
   "source": [
    "#### Apply word tokenization and part-of-speech tagging to the sentence"
   ]
  },
  {
   "cell_type": "markdown",
   "metadata": {},
   "source": [
    "##### In the below function, fill in the lines to perform operations : tokenizing and POS tagging  --> 1M"
   ]
  },
  {
   "cell_type": "code",
   "execution_count": 17,
   "metadata": {},
   "outputs": [],
   "source": [
    "def preprocess(sent):\n",
    "     \n",
    "    #Code here\n",
    "    tokens = word_tokenize(sent)\n",
    "    sent = nltk.pos_tag(tokens)\n",
    "\n",
    "    return sent"
   ]
  },
  {
   "cell_type": "code",
   "execution_count": 18,
   "metadata": {
    "scrolled": true
   },
   "outputs": [
    {
     "data": {
      "text/plain": [
       "[('Virat', 'NNP'),\n",
       " ('Kohli', 'NNP'),\n",
       " ('is', 'VBZ'),\n",
       " ('an', 'DT'),\n",
       " ('Indian', 'JJ'),\n",
       " ('cricketer', 'NN'),\n",
       " ('who', 'WP'),\n",
       " ('currently', 'RB'),\n",
       " ('captains', 'VBZ'),\n",
       " ('the', 'DT'),\n",
       " ('India', 'NNP'),\n",
       " ('national', 'JJ'),\n",
       " ('team', 'NN'),\n",
       " ('.', '.'),\n",
       " ('A', 'DT'),\n",
       " ('right-handed', 'JJ'),\n",
       " ('top-order', 'NN'),\n",
       " ('batsman', 'NN'),\n",
       " (',', ','),\n",
       " ('Kohli', 'NNP'),\n",
       " ('is', 'VBZ'),\n",
       " ('regarded', 'VBN'),\n",
       " ('as', 'IN'),\n",
       " ('one', 'CD'),\n",
       " ('of', 'IN'),\n",
       " ('the', 'DT'),\n",
       " ('best', 'JJS'),\n",
       " ('batsmen', 'NNS'),\n",
       " ('in', 'IN'),\n",
       " ('the', 'DT'),\n",
       " ('world', 'NN')]"
      ]
     },
     "execution_count": 18,
     "metadata": {},
     "output_type": "execute_result"
    }
   ],
   "source": [
    "# Call the preprocess function\n",
    "sent = preprocess(sentence)\n",
    "sent"
   ]
  },
  {
   "cell_type": "code",
   "execution_count": 19,
   "metadata": {},
   "outputs": [],
   "source": [
    "# Pattern Creation\n",
    "pattern = 'NP: {<DT>?<JJ>*<NN>}'"
   ]
  },
  {
   "cell_type": "markdown",
   "metadata": {},
   "source": [
    "#### In the below section, Use the above defined pattern and parse the sentence i.e sent\n",
    "#Hint - Use RegexParser and parse  ---> 1.5 M"
   ]
  },
  {
   "cell_type": "code",
   "execution_count": 7,
   "metadata": {},
   "outputs": [
    {
     "name": "stdout",
     "output_type": "stream",
     "text": [
      "(S\n",
      "  Virat/NNP\n",
      "  Kohli/NNP\n",
      "  is/VBZ\n",
      "  (NP an/DT Indian/JJ cricketer/NN)\n",
      "  who/WP\n",
      "  currently/RB\n",
      "  captains/VBZ\n",
      "  the/DT\n",
      "  India/NNP\n",
      "  (NP national/JJ team/NN)\n",
      "  ./.\n",
      "  (NP A/DT right-handed/JJ top-order/NN)\n",
      "  (NP batsman/NN)\n",
      "  ,/,\n",
      "  Kohli/NNP\n",
      "  is/VBZ\n",
      "  regarded/VBN\n",
      "  as/IN\n",
      "  one/CD\n",
      "  of/IN\n",
      "  the/DT\n",
      "  best/JJS\n",
      "  batsmen/NNS\n",
      "  in/IN\n",
      "  (NP the/DT world/NN))\n"
     ]
    }
   ],
   "source": [
    "cp = #Code here \n",
    "cs = #Code here \n",
    "print(cs)"
   ]
  },
  {
   "cell_type": "code",
   "execution_count": 20,
   "metadata": {},
   "outputs": [],
   "source": [
    "NPChunker = nltk.RegexpParser(pattern) \n",
    "result = NPChunker.parse(sent)\n",
    "result.draw()"
   ]
  },
  {
   "cell_type": "markdown",
   "metadata": {},
   "source": [
    "#### Print a list of 3-tuples containing (word, tag, IOB-tag) --> 2M"
   ]
  },
  {
   "cell_type": "markdown",
   "metadata": {},
   "source": [
    "##### Hint : Use cs which contains word and tag and use the tree2conlltags and pprint"
   ]
  },
  {
   "cell_type": "code",
   "execution_count": 8,
   "metadata": {},
   "outputs": [
    {
     "name": "stdout",
     "output_type": "stream",
     "text": [
      "[('Virat', 'NNP', 'O'),\n",
      " ('Kohli', 'NNP', 'O'),\n",
      " ('is', 'VBZ', 'O'),\n",
      " ('an', 'DT', 'B-NP'),\n",
      " ('Indian', 'JJ', 'I-NP'),\n",
      " ('cricketer', 'NN', 'I-NP'),\n",
      " ('who', 'WP', 'O'),\n",
      " ('currently', 'RB', 'O'),\n",
      " ('captains', 'VBZ', 'O'),\n",
      " ('the', 'DT', 'O'),\n",
      " ('India', 'NNP', 'O'),\n",
      " ('national', 'JJ', 'B-NP'),\n",
      " ('team', 'NN', 'I-NP'),\n",
      " ('.', '.', 'O'),\n",
      " ('A', 'DT', 'B-NP'),\n",
      " ('right-handed', 'JJ', 'I-NP'),\n",
      " ('top-order', 'NN', 'I-NP'),\n",
      " ('batsman', 'NN', 'B-NP'),\n",
      " (',', ',', 'O'),\n",
      " ('Kohli', 'NNP', 'O'),\n",
      " ('is', 'VBZ', 'O'),\n",
      " ('regarded', 'VBN', 'O'),\n",
      " ('as', 'IN', 'O'),\n",
      " ('one', 'CD', 'O'),\n",
      " ('of', 'IN', 'O'),\n",
      " ('the', 'DT', 'O'),\n",
      " ('best', 'JJS', 'O'),\n",
      " ('batsmen', 'NNS', 'O'),\n",
      " ('in', 'IN', 'O'),\n",
      " ('the', 'DT', 'B-NP'),\n",
      " ('world', 'NN', 'I-NP')]\n"
     ]
    }
   ],
   "source": [
    "from nltk.chunk import conlltags2tree, tree2conlltags\n",
    "from pprint import pprint\n",
    "    #Code here\n",
    "    #Code here"
   ]
  }
 ],
 "metadata": {
  "kernelspec": {
   "display_name": "Python 3",
   "language": "python",
   "name": "python3"
  },
  "language_info": {
   "codemirror_mode": {
    "name": "ipython",
    "version": 3
   },
   "file_extension": ".py",
   "mimetype": "text/x-python",
   "name": "python",
   "nbconvert_exporter": "python",
   "pygments_lexer": "ipython3",
   "version": "3.7.3"
  }
 },
 "nbformat": 4,
 "nbformat_minor": 2
}
