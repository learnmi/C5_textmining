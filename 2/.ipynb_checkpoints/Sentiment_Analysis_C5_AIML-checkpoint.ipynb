{
 "cells": [
  {
   "cell_type": "markdown",
   "metadata": {
    "colab_type": "text",
    "id": "uQbkGH3d0EUW"
   },
   "source": [
    "# SENTIMENT ANALYSIS"
   ]
  },
  {
   "cell_type": "markdown",
   "metadata": {
    "colab_type": "text",
    "id": "98tF7z7VmAYz"
   },
   "source": [
    "**Sentiment Analysis**, or Opinion Mining, is a sub-field of **Natural Language Processing (NLP)** that tries to identify and extract opinions within a given text. The aim of sentiment analysis is to gauge the attitude, sentiments, evaluations and emotions of a speaker/writer based on the computational treatment of subjectivity in a text.\n",
    "\n",
    "![Picture1](https://www.kdnuggets.com/images/sentiment-fig-1-689.jpg)"
   ]
  },
  {
   "cell_type": "markdown",
   "metadata": {
    "colab_type": "text",
    "id": "4YhPLX1Dmh5E"
   },
   "source": [
    "Sentiment Analysis enables companies to make sense out of data by being able to automate the entire process of analyzing different sentiments in text from sources like **Twitter, Facebook**. Thus companies are able to extract vital insights from a vast unstructured dataset without having to manually indulge with it."
   ]
  },
  {
   "cell_type": "markdown",
   "metadata": {
    "colab_type": "text",
    "id": "knao8FIrplTv"
   },
   "source": [
    "Though it may seem easy, Sentiment Analysis is actually a tricky subject. Few of the reasons are:\n",
    "\n",
    "\n",
    "1.   Understanding emotions through text are not always easy.\n",
    "2.   A text may contain multiple sentiments all at once. ('Actors were good, but the movie was very bad.')\n",
    "3.   Heavy use of emoticons and slangs with sentiment values in social media texts makes text analysis difficult.\n",
    "\n"
   ]
  },
  {
   "cell_type": "markdown",
   "metadata": {
    "colab_type": "text",
    "id": "5tXzMVDSN5KL"
   },
   "source": [
    "## Dictionary Based Sentiment Analysis "
   ]
  },
  {
   "cell_type": "markdown",
   "metadata": {
    "colab_type": "text",
    "id": "lJ9fjAIyPK2Z"
   },
   "source": [
    "**Dictionary-based sentiment analysis** works by comparing the words in a text or corpus with pre-established dictionaries of words. These dictionaries could be based around positive/negative words or other queries such as professional/casual language. Each dictionary contains a list of words that the user believes corresponds to a particular quality (e.g. 'positivity', 'impoliteness'). This notebook will focus on evaluating the positivity/negativity of tweets. The first steps are to create or acquire dictionary files for positive and negative words, import the dictionaries and tokenize them into positive/negative word lists, and import a text file to be analyzed."
   ]
  },
  {
   "cell_type": "markdown",
   "metadata": {
    "colab_type": "text",
    "id": "UKR13mAFP6xB"
   },
   "source": [
    "### Setting up our data\n",
    "\n",
    "Here we will import the provided data as our positive and negative dictionaries and a test file. \n",
    "\n",
    "For Mining the tweets follow this:\n",
    "1. Open a twitter developer account.\n",
    "2. Get the Key (API key, API secret key) and Tokens (Access token, Access token secret) details from your account\n",
    "3. Import tweepy library and pass key details to tweepy's OAuth handler and saving it as auth. \n",
    "4. Pass access token to set_access_token object of auth.\n",
    "5. Define a function what you want to do with the data ex: print.\n",
    "6. Pass auth and the function into Stream object of tweepy.\n",
    "7. Finally filter Twitter Streams to capture data by the keywords ex: Obama\n"
   ]
  },
  {
   "cell_type": "markdown",
   "metadata": {
    "colab_type": "text",
    "id": "_IVbwY9ut-lK"
   },
   "source": [
    "Load the **negative** words."
   ]
  },
  {
   "cell_type": "code",
   "execution_count": 0,
   "metadata": {
    "colab": {
     "base_uri": "https://localhost:8080/",
     "height": 34
    },
    "colab_type": "code",
    "id": "kyNNKqx8N7cH",
    "outputId": "1040b5ef-c07b-4e02-934f-cfeaf6ba89d0"
   },
   "outputs": [
    {
     "name": "stdout",
     "output_type": "stream",
     "text": [
      "['wretchedly', 'wretchedness', 'wrong', 'wrongful', 'wrought', 'wrought', 'yawn', 'zealot', 'zealous', 'zealously']\n"
     ]
    }
   ],
   "source": [
    "with open(\"negative.txt\", \"r\") as f:\n",
    "    negText = f.read()\n",
    "negTokens = negText.split(\"\\n\") # This splits the text file into tokens on the new line character\n",
    "negTokens[-1:] = [] # This strips out the final empty item\n",
    "print(negTokens[-10:])"
   ]
  },
  {
   "cell_type": "markdown",
   "metadata": {
    "colab_type": "text",
    "id": "AqUpp4XFuz5j"
   },
   "source": [
    "Load the **positive** words."
   ]
  },
  {
   "cell_type": "code",
   "execution_count": 0,
   "metadata": {
    "colab": {
     "base_uri": "https://localhost:8080/",
     "height": 34
    },
    "colab_type": "code",
    "id": "S222kzwVu5HB",
    "outputId": "12863fc3-e7ae-47c1-8870-0d334f6f8a62"
   },
   "outputs": [
    {
     "name": "stdout",
     "output_type": "stream",
     "text": [
      "['worthwhile', 'worthy', 'wow', 'wry', 'yearning', 'yearningly', 'youthful', 'zeal', 'zenith', 'zest']\n"
     ]
    }
   ],
   "source": [
    "with open(\"positive.txt\", \"r\") as f:\n",
    "    posText = f.read()\n",
    "posTokens = posText.split(\"\\n\") # This splits the text file into tokens on the new line character\n",
    "posTokens[-1:] = [] # This strips out the final empty item\n",
    "print(posTokens[-10:])"
   ]
  },
  {
   "cell_type": "markdown",
   "metadata": {
    "colab_type": "text",
    "id": "MFzMfyNSu9pJ"
   },
   "source": [
    "Load the **tweets** words."
   ]
  },
  {
   "cell_type": "code",
   "execution_count": 0,
   "metadata": {
    "colab": {
     "base_uri": "https://localhost:8080/",
     "height": 52
    },
    "colab_type": "code",
    "id": "p4CDy4XDvChs",
    "outputId": "f04b07ad-9392-4ee6-ab4c-83e10a7df496"
   },
   "outputs": [
    {
     "name": "stdout",
     "output_type": "stream",
     "text": [
      "Obama has called the GOP budget social Darwinism. Nice try, but they believe in social creationism.\n",
      "In his teen years, Obama has been known to use marijuana and cocaine.\n"
     ]
    }
   ],
   "source": [
    "with open(\"tweets.txt\", \"r\") as f:\n",
    "    tweetsText = f.read()\n",
    "tweetsTokens = tweetsText.split(\"\\n\") # This splits the text file into tokens on the new line character\n",
    "tweetsTokens[-1:] = [] # This strips out the final empty item\n",
    "print(tweetsTokens[0])\n",
    "print(tweetsTokens[1])"
   ]
  },
  {
   "cell_type": "markdown",
   "metadata": {
    "colab_type": "text",
    "id": "SPSR3BNOvUxD"
   },
   "source": [
    "### Tokenizing the tweets\n",
    "\n",
    "Now we will create two functions. The first for tokenizing a tweet, the second for calculating and gathering positive/negative words.\n"
   ]
  },
  {
   "cell_type": "code",
   "execution_count": 0,
   "metadata": {
    "colab": {},
    "colab_type": "code",
    "id": "kum0Cd5QvcJn"
   },
   "outputs": [],
   "source": [
    "import re\n",
    "def tokenizer(theText):\n",
    "    theTokens = re.findall(r'\\b\\w[\\w-]*\\b', theText.lower())\n",
    "    return theTokens\n",
    "\n",
    "posWordsList = []\n",
    "negWordsList = []\n",
    "\n",
    "def calculator(theTweet):\n",
    "    # Count positive words\n",
    "    numPosWords = 0\n",
    "    theTweetTokens = tokenizer(theTweet)\n",
    "    for word in theTweetTokens:\n",
    "        if word in posTokens:\n",
    "            numPosWords += 1\n",
    "            posWordsList.append(word)\n",
    "            \n",
    "    # Count negative words\n",
    "    numNegWords = 0\n",
    "    for word in theTweetTokens:\n",
    "        if word in negTokens:\n",
    "            numNegWords += 1\n",
    "            negWordsList.append(word) \n",
    "    \n",
    "    sum = (numPosWords - numNegWords)\n",
    "    return sum"
   ]
  },
  {
   "cell_type": "markdown",
   "metadata": {
    "colab_type": "text",
    "id": "6Qopuve3v-RM"
   },
   "source": [
    "### Analyzing tweets\n",
    "\n",
    "Now we will use the calculator to calculate how many positive and negative tweets in the text.\n",
    "\n",
    "Note: that you can set a threshold for the number of words for a Tweet to be considered positive or negative.\n"
   ]
  },
  {
   "cell_type": "code",
   "execution_count": 0,
   "metadata": {
    "colab": {},
    "colab_type": "code",
    "id": "CE_D5nFSv39d"
   },
   "outputs": [],
   "source": [
    "# Here we set up the thresholds\n",
    "posi = 1 # This means there have to be more than 1 positive word\n",
    "nega = 0 # This means there has to be more than 1 negative words\n",
    "\n",
    "# Here we initialize our variables\n",
    "numTweets = 0\n",
    "numPosTweets = 0\n",
    "numNegTweets = 0\n",
    "numNeutTweets = 0\n",
    "\n",
    "# This loop goes through all the Tweets and  \n",
    "# sums the number of positive or negative ones.\n",
    "for tweet in tweetsTokens:\n",
    "    calc = calculator(tweet)\n",
    "    if calc > posi:\n",
    "        numPosTweets += 1\n",
    "        numTweets += 1\n",
    "    elif calc < nega:\n",
    "        numNegTweets += 1\n",
    "        numTweets += 1\n",
    "    else:\n",
    "        numNeutTweets += 1\n",
    "        numTweets += 1"
   ]
  },
  {
   "cell_type": "markdown",
   "metadata": {
    "colab_type": "text",
    "id": "5qx7Q4xEyvWB"
   },
   "source": [
    "### Results "
   ]
  },
  {
   "cell_type": "code",
   "execution_count": 0,
   "metadata": {
    "colab": {
     "base_uri": "https://localhost:8080/",
     "height": 121
    },
    "colab_type": "code",
    "id": "Rsf0I8MkyxRU",
    "outputId": "7c486e2a-79de-461b-eca9-28f642656d8c"
   },
   "outputs": [
    {
     "name": "stdout",
     "output_type": "stream",
     "text": [
      "Total Tweets: 1380\n",
      "Positive tweets: 81\n",
      "Neutral tweets: 1047\n",
      "Negative tweets: 252\n",
      "Positive words: 756\n",
      "Positive words: 552\n"
     ]
    }
   ],
   "source": [
    "# Print out the results        \n",
    "print(\"Total Tweets: \" + str(numTweets) + \"\\n\" + \\\n",
    "      \"Positive tweets: \" + str(numPosTweets) + \\\n",
    "      \"\\n\" + \"Neutral tweets: \" + str(numNeutTweets) + \\\n",
    "      \"\\n\" + \"Negative tweets: \" +str(numNegTweets))\n",
    "\n",
    "print(\"Positive words: \" + str(len(posWordsList)))\n",
    "print(\"Positive words: \" + str(len(negWordsList)))"
   ]
  },
  {
   "cell_type": "markdown",
   "metadata": {
    "colab_type": "text",
    "id": "kPe5HcLqy7c_"
   },
   "source": [
    "### Plot Most frequent Positive and Negative Words in the tweets "
   ]
  },
  {
   "cell_type": "code",
   "execution_count": 0,
   "metadata": {
    "colab": {
     "base_uri": "https://localhost:8080/",
     "height": 369
    },
    "colab_type": "code",
    "id": "TcVeT2PrzH7w",
    "outputId": "a7e5023e-d50a-4fa4-9865-f9b486a38693"
   },
   "outputs": [
    {
     "name": "stdout",
     "output_type": "stream",
     "text": [
      "     will      just   supreme     white important      good      nice     right   support  interest \n",
      "       66        44        32        31        26        18        17        17        16        16 \n"
     ]
    },
    {
     "data": {
      "image/png": "[encoded data removed]",
      "text/plain": [
       "<Figure size 432x288 with 1 Axes>"
      ]
     },
     "metadata": {
      "tags": []
     },
     "output_type": "display_data"
    }
   ],
   "source": [
    "import nltk, matplotlib\n",
    "%matplotlib inline\n",
    "\n",
    "# Positive\n",
    "posDist = nltk.FreqDist(posWordsList)\n",
    "posDist.tabulate(10)\n",
    "\n",
    "posDist.plot(25, title=\"Top Positive Words\")"
   ]
  },
  {
   "cell_type": "code",
   "execution_count": 0,
   "metadata": {
    "colab": {
     "base_uri": "https://localhost:8080/",
     "height": 358
    },
    "colab_type": "code",
    "id": "_8Wpw7CF0wFS",
    "outputId": "0c2710a5-fc32-4966-b2c3-59030864958f"
   },
   "outputs": [
    {
     "name": "stdout",
     "output_type": "stream",
     "text": [
      "   need   bully against  trying     war    dumb    down  rumors     bad  racist \n",
      "     26      19      14      13      11      11      11      10       9       8 \n"
     ]
    },
    {
     "data": {
      "image/png": "[encoded data removed]",
      "text/plain": [
       "<Figure size 432x288 with 1 Axes>"
      ]
     },
     "metadata": {
      "tags": []
     },
     "output_type": "display_data"
    }
   ],
   "source": [
    "# Negative\n",
    "negDist = nltk.FreqDist(negWordsList)\n",
    "negDist.tabulate(10)\n",
    "\n",
    "negDist.plot(25, title=\"Top Negative Words\")"
   ]
  },
  {
   "cell_type": "markdown",
   "metadata": {
    "colab_type": "text",
    "id": "ZlfuVEO5qcUG"
   },
   "source": [
    "## VADER Sentiment Analysis"
   ]
  },
  {
   "cell_type": "markdown",
   "metadata": {
    "colab_type": "text",
    "id": "H8r2jCw4qeyl"
   },
   "source": [
    "**Valence Aware Dictionary and Sentiment Reasoner (VADER)** is a lexicon and rule-based sentiment analysis tool that is specifically attuned to sentiments expressed in social media. VADER does not requires any training data but is constructed from a generalizable, valence-based, human-curated gold standard sentiment lexicon. (A sentiment lexicon is a list of lexical features e.g., words, which are generally labelled according to their semantic orientation as either positive or negative.). VADER has been found to be quite successful when dealing with social media texts, editorials, movie reviews, and product reviews. This is because VADER not only tells about the Positivity and Negativity score but also tells us about how positive or negative a sentiment is.\n",
    "\n",
    "[Original Paper](http://comp.social.gatech.edu/papers/icwsm14.vader.hutto.pdf)"
   ]
  },
  {
   "cell_type": "markdown",
   "metadata": {
    "colab_type": "text",
    "id": "DfuPVOYqtpZ1"
   },
   "source": [
    "### Install Python Vader Library first"
   ]
  },
  {
   "cell_type": "code",
   "execution_count": 0,
   "metadata": {
    "colab": {
     "base_uri": "https://localhost:8080/",
     "height": 124
    },
    "colab_type": "code",
    "id": "heTz20Uspk6T",
    "outputId": "979f8233-a856-42ca-fa42-90dc171f518a"
   },
   "outputs": [
    {
     "name": "stdout",
     "output_type": "stream",
     "text": [
      "Collecting vaderSentiment\n",
      "\u001b[?25l  Downloading https://files.pythonhosted.org/packages/86/9e/c53e1fc61aac5ee490a6ac5e21b1ac04e55a7c2aba647bb8411c9aadf24e/vaderSentiment-3.2.1-py2.py3-none-any.whl (125kB)\n",
      "\r\u001b[K     |██▋                             | 10kB 18.7MB/s eta 0:00:01\r\u001b[K     |█████▏                          | 20kB 1.8MB/s eta 0:00:01\r\u001b[K     |███████▉                        | 30kB 2.4MB/s eta 0:00:01\r\u001b[K     |██████████▍                     | 40kB 1.7MB/s eta 0:00:01\r\u001b[K     |█████████████                   | 51kB 1.9MB/s eta 0:00:01\r\u001b[K     |███████████████▋                | 61kB 2.3MB/s eta 0:00:01\r\u001b[K     |██████████████████▎             | 71kB 2.5MB/s eta 0:00:01\r\u001b[K     |████████████████████▉           | 81kB 2.7MB/s eta 0:00:01\r\u001b[K     |███████████████████████▍        | 92kB 3.0MB/s eta 0:00:01\r\u001b[K     |██████████████████████████      | 102kB 2.8MB/s eta 0:00:01\r\u001b[K     |████████████████████████████▋   | 112kB 2.8MB/s eta 0:00:01\r\u001b[K     |███████████████████████████████▎| 122kB 2.8MB/s eta 0:00:01\r\u001b[K     |████████████████████████████████| 133kB 2.8MB/s \n",
      "\u001b[?25hInstalling collected packages: vaderSentiment\n",
      "Successfully installed vaderSentiment-3.2.1\n"
     ]
    }
   ],
   "source": [
    "!pip install vaderSentiment"
   ]
  },
  {
   "cell_type": "markdown",
   "metadata": {
    "colab_type": "text",
    "id": "kW6azGo8uCQ3"
   },
   "source": [
    "### Import the library "
   ]
  },
  {
   "cell_type": "code",
   "execution_count": 0,
   "metadata": {
    "colab": {},
    "colab_type": "code",
    "id": "vJAIq0OhlrQ1"
   },
   "outputs": [],
   "source": [
    "from vaderSentiment.vaderSentiment import SentimentIntensityAnalyzer\n",
    "analyser = SentimentIntensityAnalyzer()"
   ]
  },
  {
   "cell_type": "markdown",
   "metadata": {
    "colab_type": "text",
    "id": "nJ6Iwkzz63xt"
   },
   "source": [
    "### Working and Scoring\n",
    "\n",
    "We will use the polarity_scores() method to obtain the polarity indices for the given sentence."
   ]
  },
  {
   "cell_type": "code",
   "execution_count": 0,
   "metadata": {
    "colab": {},
    "colab_type": "code",
    "id": "kxKx4cK4uJhx"
   },
   "outputs": [],
   "source": [
    "def sentiment_analyzer_scores(sentence):\n",
    "    score = analyser.polarity_scores(sentence)\n",
    "    print(\"{} {}\".format(sentence, str(score)))"
   ]
  },
  {
   "cell_type": "markdown",
   "metadata": {
    "colab_type": "text",
    "id": "lV2Ufmb1-IFQ"
   },
   "source": [
    "Let us check how VADER performs on a given review:"
   ]
  },
  {
   "cell_type": "code",
   "execution_count": 0,
   "metadata": {
    "colab": {
     "base_uri": "https://localhost:8080/",
     "height": 34
    },
    "colab_type": "code",
    "id": "isxZds4_-EVY",
    "outputId": "916ca7f3-48a5-440b-8141-6a7086970434"
   },
   "outputs": [
    {
     "name": "stdout",
     "output_type": "stream",
     "text": [
      "VADER is smart, handsome, and funny. {'neg': 0.0, 'neu': 0.254, 'pos': 0.746, 'compound': 0.8316}\n"
     ]
    }
   ],
   "source": [
    "sentiment_analyzer_scores(\"VADER is smart, handsome, and funny.\")"
   ]
  },
  {
   "cell_type": "markdown",
   "metadata": {
    "colab_type": "text",
    "id": "iVwfmeHh-7DD"
   },
   "source": [
    "1. The Positive, Negative and Neutral scores represent the proportion of text that falls in these categories. This means our sentence was rated as 75% Positive, 25% Neutral and 0% Negative. Hence all these should add up to 1.\n",
    "\n",
    "2. The compound score is computed by summing the valence scores of each word in the lexicon, adjusted according to the rules, and then normalized to be between -1 (most extreme negative) and +1 (most extreme positive). This is the most useful metric if you want a single unidimensional measure of sentiment for a given sentence. Calling it a 'normalized, weighted composite score' is accurate. \n",
    "\n",
    "        positive sentiment: compound score >= 0.05\n",
    "        neutral sentiment: (compound score > -0.05) and (compound score < 0.05)\n",
    "        negative sentiment: compound score <= -0.05\n",
    "\n",
    "\n",
    "According to the [Vader sentiment](https://github.com/cjhutto/vaderSentiment/blob/master/vaderSentiment/vader_lexicon.txt), the valence given to \"VADER\" is 0, \"is\" is 0, smart\" is 1.7, \"handsome\" is 2.2, \"and\" is 0,\"funny\" is 1.9. Their sum is 5.8 .\n",
    "\n",
    "The above sentiments are raised by 1 (-1 for negative scores) to compensate for the neutral words as their valence is zero. \n",
    "\n",
    "So the sentiments become [1, 1, 2.7, 3.2, 1, 2.9]\n",
    "\n",
    "\"Pos\" score = 2.7+3.2+2.9/(1+1+2.7+3.2+1+2.9) = 0.746\n",
    "\n",
    "\"Neu\" score = 1+1+1/ (1+1+2.7+3.2+1+2.9) = 0.254\n",
    " \n",
    "And compound score = sum/sqrt(sum^2 + 15) , which gives us 0.8316."
   ]
  },
  {
   "cell_type": "markdown",
   "metadata": {
    "colab_type": "text",
    "id": "iPvN9PqPJCxM"
   },
   "source": [
    "### VADER analyses sentiments primarily based on certain key points:"
   ]
  },
  {
   "cell_type": "markdown",
   "metadata": {
    "colab_type": "text",
    "id": "IB0aGBcsJRcf"
   },
   "source": [
    "**Punctuation:**\n",
    " \n",
    "The use of an exclamation mark(!), increases the magnitude of the intensity without modifying the semantic orientation. For example, “The food here is good!” is more intense than “The food here is good.” and an increase in the number of (!), increases the magnitude accordingly."
   ]
  },
  {
   "cell_type": "code",
   "execution_count": 0,
   "metadata": {
    "colab": {
     "base_uri": "https://localhost:8080/",
     "height": 34
    },
    "colab_type": "code",
    "id": "wD4NQSQs-QTl",
    "outputId": "b33fec04-1630-4798-9ea9-37718333b9ac"
   },
   "outputs": [
    {
     "name": "stdout",
     "output_type": "stream",
     "text": [
      "The food here is good {'neg': 0.0, 'neu': 0.58, 'pos': 0.42, 'compound': 0.4404}\n"
     ]
    }
   ],
   "source": [
    "# Baseline sentence\n",
    "sentiment_analyzer_scores(\"The food here is good\")"
   ]
  },
  {
   "cell_type": "code",
   "execution_count": 0,
   "metadata": {
    "colab": {
     "base_uri": "https://localhost:8080/",
     "height": 121
    },
    "colab_type": "code",
    "id": "m-hHBVs_J5DM",
    "outputId": "0e6bb2ab-c4e5-423b-a5b8-568654b047a1"
   },
   "outputs": [
    {
     "name": "stdout",
     "output_type": "stream",
     "text": [
      "The food here is good! {'neg': 0.0, 'neu': 0.556, 'pos': 0.444, 'compound': 0.4926}\n",
      "None\n",
      "The food here is good!! {'neg': 0.0, 'neu': 0.534, 'pos': 0.466, 'compound': 0.5399}\n",
      "None\n",
      "The food here is good!!! {'neg': 0.0, 'neu': 0.514, 'pos': 0.486, 'compound': 0.5826}\n",
      "None\n"
     ]
    }
   ],
   "source": [
    "# Punctuation\n",
    "print(sentiment_analyzer_scores(\"The food here is good!\"))\n",
    "print(sentiment_analyzer_scores(\"The food here is good!!\"))\n",
    "print(sentiment_analyzer_scores(\"The food here is good!!!\"))"
   ]
  },
  {
   "cell_type": "markdown",
   "metadata": {
    "colab_type": "text",
    "id": "T5BBmvZeKMPw"
   },
   "source": [
    "See how the overall compound score is increasing with the increase in exclamation marks."
   ]
  },
  {
   "cell_type": "markdown",
   "metadata": {
    "colab_type": "text",
    "id": "-8RvrcftKcqB"
   },
   "source": [
    "**Capitalization:** \n",
    "\n",
    "Using upper case letters to emphasize a sentiment-relevant word in the presence of other non-capitalized words, increases the magnitude of the sentiment intensity. For example, “The food here is GREAT!” conveys more intensity than “The food here is great!”"
   ]
  },
  {
   "cell_type": "code",
   "execution_count": 0,
   "metadata": {
    "colab": {
     "base_uri": "https://localhost:8080/",
     "height": 34
    },
    "colab_type": "code",
    "id": "Z5id_mPDKIA-",
    "outputId": "6eb49578-c959-4e21-bf95-b85a19320a87"
   },
   "outputs": [
    {
     "name": "stdout",
     "output_type": "stream",
     "text": [
      "The food here is great! {'neg': 0.0, 'neu': 0.477, 'pos': 0.523, 'compound': 0.6588}\n"
     ]
    }
   ],
   "source": [
    "# Baseline sentence\n",
    "sentiment_analyzer_scores(\"The food here is great!\")"
   ]
  },
  {
   "cell_type": "code",
   "execution_count": 0,
   "metadata": {
    "colab": {
     "base_uri": "https://localhost:8080/",
     "height": 34
    },
    "colab_type": "code",
    "id": "KHFGokLdKrY_",
    "outputId": "a0e08140-a839-46a7-dccc-2adb6df77af2"
   },
   "outputs": [
    {
     "name": "stdout",
     "output_type": "stream",
     "text": [
      "The food here is GREAT! {'neg': 0.0, 'neu': 0.438, 'pos': 0.562, 'compound': 0.729}\n"
     ]
    }
   ],
   "source": [
    "# Capitalisation\n",
    "sentiment_analyzer_scores(\"The food here is GREAT!\")"
   ]
  },
  {
   "cell_type": "markdown",
   "metadata": {
    "colab_type": "text",
    "id": "dEx8gJu3LADR"
   },
   "source": [
    "**Degree modifiers:** \n",
    "\n",
    "Also called intensifiers, they impact the sentiment intensity by either increasing or decreasing the intensity. For example, “The service here is extremely good” is more intense than “The service here is good”, whereas “The service here is marginally good” reduces the intensity."
   ]
  },
  {
   "cell_type": "code",
   "execution_count": 0,
   "metadata": {
    "colab": {
     "base_uri": "https://localhost:8080/",
     "height": 34
    },
    "colab_type": "code",
    "id": "q0yczWZ-KzNN",
    "outputId": "56b77b76-48ce-478f-9ffc-1e6c0985ac02"
   },
   "outputs": [
    {
     "name": "stdout",
     "output_type": "stream",
     "text": [
      "The service here is good {'neg': 0.0, 'neu': 0.58, 'pos': 0.42, 'compound': 0.4404}\n"
     ]
    }
   ],
   "source": [
    "# Baseline sentence\n",
    "sentiment_analyzer_scores(\"The service here is good\")"
   ]
  },
  {
   "cell_type": "code",
   "execution_count": 0,
   "metadata": {
    "colab": {
     "base_uri": "https://localhost:8080/",
     "height": 86
    },
    "colab_type": "code",
    "id": "Ix-JTTh9LMDz",
    "outputId": "92a4b93b-b944-4537-b3d0-c73026125bae"
   },
   "outputs": [
    {
     "name": "stdout",
     "output_type": "stream",
     "text": [
      "The service here is extremely good {'neg': 0.0, 'neu': 0.61, 'pos': 0.39, 'compound': 0.4927}\n",
      "None\n",
      "The service here is marginally good {'neg': 0.0, 'neu': 0.657, 'pos': 0.343, 'compound': 0.3832}\n",
      "None\n"
     ]
    }
   ],
   "source": [
    "# Degree Modifiers\n",
    "print(sentiment_analyzer_scores(\"The service here is extremely good\"))\n",
    "print(sentiment_analyzer_scores(\"The service here is marginally good\"))"
   ]
  },
  {
   "cell_type": "markdown",
   "metadata": {
    "colab_type": "text",
    "id": "N6lpbfreLgm6"
   },
   "source": [
    "**Conjunctions:** \n",
    "\n",
    "Use of conjunctions like “but”, signals a shift in sentiment polarity, with the sentiment of the text following the conjunction being dominant. “The food here is great, but the service is horrible” has mixed sentiment, with the latter half dictating the overall rating."
   ]
  },
  {
   "cell_type": "code",
   "execution_count": 0,
   "metadata": {
    "colab": {
     "base_uri": "https://localhost:8080/",
     "height": 34
    },
    "colab_type": "code",
    "id": "fHf09bm6Lc_j",
    "outputId": "70fcb834-1920-47c3-dece-75eae015367c"
   },
   "outputs": [
    {
     "name": "stdout",
     "output_type": "stream",
     "text": [
      "The food here is great {'neg': 0.0, 'neu': 0.494, 'pos': 0.506, 'compound': 0.6249}\n"
     ]
    }
   ],
   "source": [
    "# Baseline sentence\n",
    "sentiment_analyzer_scores(\"The food here is great\")"
   ]
  },
  {
   "cell_type": "code",
   "execution_count": 0,
   "metadata": {
    "colab": {
     "base_uri": "https://localhost:8080/",
     "height": 34
    },
    "colab_type": "code",
    "id": "mUfyz8fnL1sB",
    "outputId": "e74566a9-7324-4eb3-ea62-9529a73c699a"
   },
   "outputs": [
    {
     "name": "stdout",
     "output_type": "stream",
     "text": [
      "The food here is great, but the service is horrible {'neg': 0.31, 'neu': 0.523, 'pos': 0.167, 'compound': -0.4939}\n"
     ]
    }
   ],
   "source": [
    "# Conjunctions\n",
    "sentiment_analyzer_scores(\"The food here is great, but the service is horrible\")"
   ]
  },
  {
   "cell_type": "markdown",
   "metadata": {
    "colab_type": "text",
    "id": "Wuk-b9sHMprk"
   },
   "source": [
    "**Slangs:**"
   ]
  },
  {
   "cell_type": "code",
   "execution_count": 0,
   "metadata": {
    "colab": {
     "base_uri": "https://localhost:8080/",
     "height": 86
    },
    "colab_type": "code",
    "id": "mEhsPw0GMCuW",
    "outputId": "19919862-0599-49a4-c622-681fa306054b"
   },
   "outputs": [
    {
     "name": "stdout",
     "output_type": "stream",
     "text": [
      "Today SUX! {'neg': 0.779, 'neu': 0.221, 'pos': 0.0, 'compound': -0.5461}\n",
      "None\n",
      "Today only kinda sux! But I'll get by, lol {'neg': 0.127, 'neu': 0.556, 'pos': 0.317, 'compound': 0.5249}\n",
      "None\n"
     ]
    }
   ],
   "source": [
    "print(sentiment_analyzer_scores(\"Today SUX!\"))\n",
    "print(sentiment_analyzer_scores(\"Today only kinda sux! But I'll get by, lol\"))"
   ]
  },
  {
   "cell_type": "markdown",
   "metadata": {
    "colab_type": "text",
    "id": "xIN62FG0M4Mw"
   },
   "source": [
    "**Emoticons:**"
   ]
  },
  {
   "cell_type": "code",
   "execution_count": 0,
   "metadata": {
    "colab": {
     "base_uri": "https://localhost:8080/",
     "height": 52
    },
    "colab_type": "code",
    "id": "dBXLCnmuM6tr",
    "outputId": "ebe6becc-6b76-4d83-cb3e-811d43147290"
   },
   "outputs": [
    {
     "name": "stdout",
     "output_type": "stream",
     "text": [
      "Make sure you :) or :D today! {'neg': 0.0, 'neu': 0.294, 'pos': 0.706, 'compound': 0.8633}\n",
      "None\n"
     ]
    }
   ],
   "source": [
    "print(sentiment_analyzer_scores(\"Make sure you :) or :D today!\"))"
   ]
  },
  {
   "cell_type": "markdown",
   "metadata": {
    "colab_type": "text",
    "id": "8YdvznQfNCpD"
   },
   "source": [
    "**Emojis:**"
   ]
  },
  {
   "cell_type": "code",
   "execution_count": 0,
   "metadata": {
    "colab": {
     "base_uri": "https://localhost:8080/",
     "height": 156
    },
    "colab_type": "code",
    "id": "OQVojtPXMwtK",
    "outputId": "95e3d91f-4e3a-4e21-ebf6-0dd5f725dbfb"
   },
   "outputs": [
    {
     "name": "stdout",
     "output_type": "stream",
     "text": [
      "I am 😄 today {'neg': 0.0, 'neu': 0.476, 'pos': 0.524, 'compound': 0.6705}\n",
      "None\n",
      "😊 {'neg': 0.0, 'neu': 0.333, 'pos': 0.667, 'compound': 0.7184}\n",
      "None\n",
      "😥 {'neg': 0.275, 'neu': 0.268, 'pos': 0.456, 'compound': 0.3291}\n",
      "None\n",
      "☹️ {'neg': 0.706, 'neu': 0.294, 'pos': 0.0, 'compound': -0.34}\n",
      "None\n"
     ]
    }
   ],
   "source": [
    "print(sentiment_analyzer_scores('I am 😄 today'))\n",
    "print(sentiment_analyzer_scores('😊'))\n",
    "print(sentiment_analyzer_scores('😥'))\n",
    "print(sentiment_analyzer_scores('☹️'))"
   ]
  },
  {
   "cell_type": "markdown",
   "metadata": {
    "colab_type": "text",
    "id": "Ik1GA_H-NL39"
   },
   "source": [
    "**The outcomes highlight the tremendous benefits that can be attained by the use of VADER in cases of micro-blogging sites wherein the text data is a complex mix of a variety of text.**"
   ]
  },
  {
   "cell_type": "code",
   "execution_count": 0,
   "metadata": {
    "colab": {},
    "colab_type": "code",
    "id": "OPG5R0wwNG1W"
   },
   "outputs": [],
   "source": [
    "# Hope You Liked it!"
   ]
  }
 ],
 "metadata": {
  "colab": {
   "collapsed_sections": [],
   "name": "Sentiment_Analysis_C5_AIML.ipynb",
   "provenance": []
  },
  "kernelspec": {
   "display_name": "Python 3",
   "name": "python3"
  }
 },
 "nbformat": 4,
 "nbformat_minor": 0
}
