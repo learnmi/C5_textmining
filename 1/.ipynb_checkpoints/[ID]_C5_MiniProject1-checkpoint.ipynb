{
 "cells": [
  {
   "cell_type": "markdown",
   "metadata": {},
   "source": [
    "# Text Retrieval\n",
    "There are 2 standard models for retrieving text data.\n",
    "1. Boolean Retrieval Model\n",
    "2. Vector Space Model\n",
    "\n",
    "The aim of any information retrieval model is to retrieve documents related to a query."
   ]
  },
  {
   "cell_type": "markdown",
   "metadata": {},
   "source": [
    "## 1. Boolean Retrieval Model\n",
    "In this model we consider every query and document as a set of words and we retrieve a document if and only if the query word is present in it. Model can be extended to support complex queries with boolean operators.\n",
    "\n",
    "In this assignment we are going to implement both the models, using scikit-learn package. We are going to use song lyrics dataset with more than 55,000 song lyrics.\n",
    "\n",
    "**STEP 0. Download dataset from https://www.kaggle.com/mousehead/songlyrics**\n",
    "\n",
    "**Step 1. Import necessary packages -- numpy and pandas - 1 Mark** "
   ]
  },
  {
   "cell_type": "code",
   "execution_count": null,
   "metadata": {},
   "outputs": [],
   "source": [
    "\n"
   ]
  },
  {
   "cell_type": "markdown",
   "metadata": {},
   "source": [
    "**Step 2. Read the dataset and store it in variable 'df' - 1 mark** <br> \n",
    "\n",
    "The text column of the dataset has song lyrics. We aim to give some lyrics as a query and retrieve the song name. \n"
   ]
  },
  {
   "cell_type": "code",
   "execution_count": null,
   "metadata": {},
   "outputs": [],
   "source": []
  },
  {
   "cell_type": "markdown",
   "metadata": {},
   "source": [
    "**Documentation Reference: https://scikit-learn.org/stable/modules/generated/sklearn.feature_extraction.text.CountVectorizer.html**<br>"
   ]
  },
  {
   "cell_type": "markdown",
   "metadata": {},
   "source": [
    "**Step 3**<br>\n",
    "1. Import this class\n",
    "2. Create a 'vectorizer' object of 'CountVectorizer' with parameter binary=True - 1 Mark"
   ]
  },
  {
   "cell_type": "code",
   "execution_count": null,
   "metadata": {},
   "outputs": [],
   "source": [
    "import sklearn.feature_extraction.text.CountVectorizer\n"
   ]
  },
  {
   "cell_type": "markdown",
   "metadata": {},
   "source": [
    "We aim to analyze the lyrics for presence or absence so we will apply the following method on the text column of the given dataset. <br> \n",
    "**Step 4. Use fit_transform method of 'vectorizer' on df['text'] and store it in object X - 2 Marks**<br>\n",
    "X object is a matrix of size (n_songs,n_unique_words) where each entry is 0 or 1 if the word in present in this song. Verify this using X.shape method"
   ]
  },
  {
   "cell_type": "code",
   "execution_count": null,
   "metadata": {},
   "outputs": [],
   "source": []
  },
  {
   "cell_type": "code",
   "execution_count": null,
   "metadata": {},
   "outputs": [],
   "source": [
    "query1 = 'beautiful'\n",
    "query2 = 'girl'\n",
    "# To get list of all doc containing a word, we do it in the following way\n",
    "list_q1 = X[:,vectorizer.vocabulary_[query1]]\n",
    "# Step 5. Do the same for 'query2' and store it in 'list_q2'\n"
   ]
  },
  {
   "cell_type": "code",
   "execution_count": null,
   "metadata": {},
   "outputs": [],
   "source": [
    "# AND Operation\n",
    "for i in range(list_q1.shape[0]):\n",
    "    if list_q1[i]==1 and list_q2[i]==1:\n",
    "        print(df.iloc[i,1])"
   ]
  },
  {
   "cell_type": "markdown",
   "metadata": {},
   "source": [
    "**Step 6. Implement OR operation - 1 Mark**"
   ]
  },
  {
   "cell_type": "code",
   "execution_count": null,
   "metadata": {},
   "outputs": [],
   "source": [
    "\n"
   ]
  },
  {
   "cell_type": "markdown",
   "metadata": {},
   "source": [
    "## 2. Vector Space Model\n",
    "In this model, every document and query is represent as a vector and closest vector as measured by cosine distance is considered as the correct answer."
   ]
  },
  {
   "cell_type": "markdown",
   "metadata": {},
   "source": [
    "**Documentation Reference:**<br>\n",
    "1. https://scikit-learn.org/stable/modules/generated/sklearn.feature_extraction.text.TfidfVectorizer.html\n",
    "2. https://scikit-learn.org/stable/modules/generated/sklearn.metrics.pairwise.cosine_similarity.html\n",
    "\n",
    "**Step 1. Import above references - 1 Mark**"
   ]
  },
  {
   "cell_type": "code",
   "execution_count": null,
   "metadata": {},
   "outputs": [],
   "source": [
    "\n"
   ]
  },
  {
   "cell_type": "markdown",
   "metadata": {},
   "source": [
    "**Step 2. Create a 'vectorizer' object of 'TfidfVectorizer' - 1 Mark**"
   ]
  },
  {
   "cell_type": "code",
   "execution_count": null,
   "metadata": {},
   "outputs": [],
   "source": [
    "\n"
   ]
  },
  {
   "cell_type": "markdown",
   "metadata": {},
   "source": [
    "Here we attempt to calculate tf-idf scores of the terms (lyrics). We do that by doing the following. <br> \n",
    "**Step 3. Use fit_transform method of 'vectorizer' on df['text'] and store it in object X - 2 Marks**<br>\n",
    "X object is a matrix of size (n_songs,n_unique_words) where each entry is tf-idf score of the word in this song. Verify this using X.shape method"
   ]
  },
  {
   "cell_type": "code",
   "execution_count": null,
   "metadata": {},
   "outputs": [],
   "source": []
  },
  {
   "cell_type": "markdown",
   "metadata": {},
   "source": [
    "**Step 4. Use 'transform' method of vectorizer on 'query' and store in 'query_vec' - 1 Mark**<br>\n",
    "This method converts a text value into a tf-idf vector"
   ]
  },
  {
   "cell_type": "code",
   "execution_count": null,
   "metadata": {},
   "outputs": [],
   "source": [
    "query = [\"Take it easy, with me\"]\n"
   ]
  },
  {
   "cell_type": "markdown",
   "metadata": {},
   "source": [
    "**Step 5. Use 'cosine_similarity' on 'X' and 'query_vec' store it in 'results' - 1 Mark**"
   ]
  },
  {
   "cell_type": "code",
   "execution_count": null,
   "metadata": {},
   "outputs": [],
   "source": [
    "\n"
   ]
  },
  {
   "cell_type": "code",
   "execution_count": null,
   "metadata": {},
   "outputs": [],
   "source": [
    "# Print Name of the song\n",
    "song_index = np.argmax(results.reshape((-1,)))\n",
    "print('Artist -- ',df.iloc[song_index,0])\n",
    "print('Song -- ',df.iloc[song_index,1])"
   ]
  }
 ],
 "metadata": {
  "kernelspec": {
   "display_name": "Python 3",
   "language": "python",
   "name": "python3"
  },
  "language_info": {
   "codemirror_mode": {
    "name": "ipython",
    "version": 3
   },
   "file_extension": ".py",
   "mimetype": "text/x-python",
   "name": "python",
   "nbconvert_exporter": "python",
   "pygments_lexer": "ipython3",
   "version": "3.7.3"
  }
 },
 "nbformat": 4,
 "nbformat_minor": 2
}
